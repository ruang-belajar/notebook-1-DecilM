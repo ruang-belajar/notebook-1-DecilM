{
  "nbformat": 4,
  "nbformat_minor": 0,
  "metadata": {
    "colab": {
      "provenance": [],
      "toc_visible": true,
      "include_colab_link": true
    },
    "kernelspec": {
      "name": "python3",
      "display_name": "Python 3"
    },
    "language_info": {
      "name": "python"
    }
  },
  "cells": [
    {
      "cell_type": "markdown",
      "metadata": {
        "id": "view-in-github",
        "colab_type": "text"
      },
      "source": [
        "<a href=\"https://colab.research.google.com/github/ruang-belajar/notebook-1-DecilM/blob/main/notebook1.ipynb\" target=\"_parent\"><img src=\"https://colab.research.google.com/assets/colab-badge.svg\" alt=\"Open In Colab\"/></a>"
      ]
    },
    {
      "cell_type": "markdown",
      "source": [
        "# DATA KEBAKARAN\n",
        "* Nama : DECIL MARCHIO\n",
        "* NIM :  22010014"
      ],
      "metadata": {
        "id": "SOTwCKLPjXe4"
      }
    },
    {
      "cell_type": "code",
      "source": [
        "# PERSIAPAN DATA\n",
        "\n",
        "# download file contoh csv\n",
        "!wget https://raw.githubusercontent.com/ruang-belajar/python/master/notebook/data/2013-data-kebakaran.csv -O data-kebakaran.csv\n",
        "\n",
        "\n",
        "import pandas as pd\n",
        "\n",
        "# load data ke dataframe (df)\n",
        "df = pd.read_csv(\"data-kebakaran.csv\")\n",
        "df.head()"
      ],
      "metadata": {
        "id": "P-qkrp86AHb-"
      },
      "execution_count": null,
      "outputs": []
    },
    {
      "cell_type": "markdown",
      "source": [
        "1. Filter data laporan kebakaran yang sumber informasinya dari Masyarakat"
      ],
      "metadata": {
        "id": "TERplcKC9ylM"
      }
    },
    {
      "cell_type": "code",
      "source": [
        "# 1. Filter data laporan kebakaran yang sumber informasinya dari Masyarakat\n",
        "filtered_data_1 = df[df['sumber_info'] == 'Masyarakat']\n",
        "print(\"1. Filter data laporan kebakaran yang sumber informasinya dari Masyarakat:\")\n",
        "print(filtered_data_1)\n",
        "print()\n"
      ],
      "metadata": {
        "id": "I31Us6CC_Eai",
        "outputId": "053c30b5-1437-4308-f2c5-dfe1bf3dbda2",
        "colab": {
          "base_uri": "https://localhost:8080/"
        }
      },
      "execution_count": 4,
      "outputs": [
        {
          "output_type": "stream",
          "name": "stdout",
          "text": [
            "1. Filter data laporan kebakaran yang sumber informasinya dari Masyarakat:\n",
            "       no  tanggal  bulan    hari         keterangan sumber_info waktu_info  \\\n",
            "1       2        1      1  Selasa  Bencana Kebakaran  Masyarakat       5:00   \n",
            "2       3        1      1  Selasa  Bencana Kebakaran  Masyarakat      10:00   \n",
            "5       6        2      1    Rabu  Bencana Kebakaran  Masyarakat      13:30   \n",
            "6       7        3      1   Kamis  Bencana Kebakaran  Masyarakat       4:50   \n",
            "7       9        4      1   Jumat  Bencana Kebakaran  Masyarakat      19:45   \n",
            "..    ...      ...    ...     ...                ...         ...        ...   \n",
            "862  1583       27     12   Jumat  Bencana Kebakaran  Masyarakat       9:20   \n",
            "864  1586       29     12  Minggu  Bencana Kebakaran  Masyarakat       4:05   \n",
            "867  1589       29     12  Minggu  Bencana Kebakaran  Masyarakat      11:45   \n",
            "868  1591       31     12  Selasa  Bencana Kebakaran  Masyarakat       6:30   \n",
            "869  1592       31     12  Selasa  Bencana Kebakaran  Masyarakat      11:40   \n",
            "\n",
            "            kelurahan          kecamatan                            wilayah  \\\n",
            "1             Pekayon         Pasar Rebo    Kota Administrasi Jakarta Timur   \n",
            "2       Wijaya Kusuma  Grogol Petamburan    Kota Administrasi Jakarta Barat   \n",
            "5        Duri Kosambi         Cengkareng    Kota Administrasi Jakarta Barat   \n",
            "6    Cengkareng Barat         Cengkareng    Kota Administrasi Jakarta Barat   \n",
            "7                Jati         Pulogadung    Kota Administrasi Jakarta Timur   \n",
            "..                ...                ...                                ...   \n",
            "862            Gambir             Gambir    Kota Administrasi Jakarta Pusat   \n",
            "864          Rawajati           Pancoran  Kota Administrasi Jakarta Selatan   \n",
            "867          Kalibata           Pancoran  Kota Administrasi Jakarta Selatan   \n",
            "868      Kampung Rawa         Johar Baru    Kota Administrasi Jakarta Pusat   \n",
            "869        Kelapa Dua        Kebun Jeruk    Kota Administrasi Jakarta Barat   \n",
            "\n",
            "                   objek_awal   jenis_bangunan penyebab  korban_jiwa  \\\n",
            "1               Rumah Tinggal  Bangunan Rendah  Listrik          3.0   \n",
            "2               Rumah Tinggal  Bangunan Rendah  Listrik         80.0   \n",
            "5               Rumah Tinggal  Bangunan Rendah  Listrik          0.0   \n",
            "6               Toko Bangunan  Bangunan Rendah  Listrik          0.0   \n",
            "7               Rumah Tinggal  Bangunan Rendah  Listrik          2.0   \n",
            "..                        ...              ...      ...          ...   \n",
            "862  Restoran Hoka Hoka Bento  Bangunan Rendah     Lain          NaN   \n",
            "864              Warung Makan  Bangunan Rendah     Lain          NaN   \n",
            "867             Rumah Tinggal              NaN  Listrik          4.0   \n",
            "868                        LL  Bangunan Rendah  Listrik          3.0   \n",
            "869                Kompor Gas  Bangunan Rendah   Kompor          3.0   \n",
            "\n",
            "      kerugian  \n",
            "1     20000000  \n",
            "2    750000000  \n",
            "5    700000000  \n",
            "6      1000000  \n",
            "7    200000000  \n",
            "..         ...  \n",
            "862  500000000  \n",
            "864  750000000  \n",
            "867   40000000  \n",
            "868    1000000  \n",
            "869    1000000  \n",
            "\n",
            "[675 rows x 15 columns]\n",
            "\n"
          ]
        }
      ]
    },
    {
      "cell_type": "markdown",
      "source": [
        "2. Filter data laporan kebakaran yang sumber informasinya dari Masyarakat di bulan Februari"
      ],
      "metadata": {
        "id": "6dVYLBjp_K2-"
      }
    },
    {
      "cell_type": "code",
      "source": [
        "# 2. Filter data laporan kebakaran yang sumber informasinya dari Masyarakat di bulan Februari\n",
        "filtered_data_2 = df[(df['sumber_info'] == 'Masyarakat') & (df['bulan'] == 2)]\n",
        "print(\"2. Filter data laporan kebakaran yang sumber informasinya dari Masyarakat di bulan Februari:\")\n",
        "print(filtered_data_2)\n",
        "print()\n"
      ],
      "metadata": {
        "id": "e9lJXb6O_NHp"
      },
      "execution_count": null,
      "outputs": []
    },
    {
      "cell_type": "markdown",
      "source": [
        "3. Filter data laporan kebakaran dengan nilai kerugian lebih dari 100juta"
      ],
      "metadata": {
        "id": "PfgIe5R-_Npc"
      }
    },
    {
      "cell_type": "code",
      "source": [
        "# 3. Filter data laporan kebakaran dengan nilai kerugian lebih dari 100juta\n",
        "filtered_data_3 = df[df['kerugian'] > 100000000]\n",
        "print(\"3. Filter data laporan kebakaran dengan nilai kerugian lebih dari 100juta:\")\n",
        "print(filtered_data_3)\n",
        "print()\n",
        "\n"
      ],
      "metadata": {
        "id": "JtSmnbfH_O42"
      },
      "execution_count": null,
      "outputs": []
    },
    {
      "cell_type": "markdown",
      "source": [
        "4. Filter data laporan kebakaran selama semester 2 tahun 2022"
      ],
      "metadata": {
        "id": "bjG-k4-j_PgA"
      }
    },
    {
      "cell_type": "code",
      "source": [
        "# 4. Filter data laporan kebakaran selama semester 2 tahun 2022\n",
        "filtered_data_4 = df[(df['tanggal'] > 6)]\n",
        "print(\"4. Filter data laporan kebakaran selama semester 2 tahun 2022:\")\n",
        "print(filtered_data_4)\n",
        "print()\n"
      ],
      "metadata": {
        "id": "twQbJvOj_P7g"
      },
      "execution_count": null,
      "outputs": []
    },
    {
      "cell_type": "markdown",
      "source": [
        "5. Filter data laporan kebakaran selama dari Maret sampai Juli 2022"
      ],
      "metadata": {
        "id": "FX4HqwPL_mbE"
      }
    },
    {
      "cell_type": "code",
      "source": [
        "# 5. Filter data laporan kebakaran selama dari Maret sampai Juli 2022\n",
        "filtered_data_5 = df[(df['bulan'].between(3, 7))]\n",
        "print(\"5. Filter data laporan kebakaran selama dari Maret sampai Juli 2022:\")\n",
        "print(filtered_data_5)\n",
        "print()\n"
      ],
      "metadata": {
        "id": "q1u0jtEq_m7m"
      },
      "execution_count": null,
      "outputs": []
    },
    {
      "cell_type": "markdown",
      "source": [
        "6. Filter data laporan kebakaran selama dari Maret sampai Juli 2022"
      ],
      "metadata": {
        "id": "brAuc0Kl_q_e"
      }
    },
    {
      "cell_type": "code",
      "source": [
        "# 6. Filter data laporan kebakaran selama dari Maret sampai Juli 2022\n",
        "filtered_data_6 = df[(df['bulan'].between(3, 7))]\n",
        "print(\"6. Filter data laporan kebakaran selama dari Maret sampai Juli 2022:\")\n",
        "print(filtered_data_6)\n",
        "print()\n",
        "\n",
        "\n",
        "\n",
        "\n"
      ],
      "metadata": {
        "id": "f504Kyfq_rim"
      },
      "execution_count": null,
      "outputs": []
    },
    {
      "cell_type": "markdown",
      "source": [
        "Filter data laporan kebakaran Rumah Tinggal yang disebabkan oleh Listrik"
      ],
      "metadata": {
        "id": "PeRp7jno_sGR"
      }
    },
    {
      "cell_type": "code",
      "source": [
        "# 7. Filter data laporan kebakaran Rumah Tinggal yang disebabkan oleh Listrik\n",
        "filtered_data_7 = df[(df['objek_awal'] == 'Rumah Tinggal') & (df['penyebab'] == 'Listrik')]\n",
        "print(\"7. Filter data laporan kebakaran Rumah Tinggal yang disebabkan oleh Listrik:\")\n",
        "print(filtered_data_7)\n"
      ],
      "metadata": {
        "id": "uYZoYBGp_srQ"
      },
      "execution_count": null,
      "outputs": []
    }
  ]
}